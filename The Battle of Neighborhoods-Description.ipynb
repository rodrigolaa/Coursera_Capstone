{
    "nbformat_minor": 1, 
    "cells": [
        {
            "source": "<h2> The Battle of Neighborhoods - Problem Case:", 
            "cell_type": "markdown", 
            "metadata": {
                "collapsed": true
            }
        }, 
        {
            "source": "<h3>Introduction", 
            "cell_type": "markdown", 
            "metadata": {}
        }, 
        {
            "source": "   The city of Toronto is the financial capital and the most populous city of Canada, with a population growing rapdily each year. \n   The ethnicity of toronto is very mixed, almost 12.5 per cent being Chinese, and the immigration of asian country like china and indian to Canada is growing each year.  \n\n   **Aladdin's** is a well known Indian food restaurant target to low and medium income neighborhoods, they are interested to know wich Torontos's neighborhoods are the best to install their food chain restaurant.\n", 
            "cell_type": "markdown", 
            "metadata": {}
        }, 
        {
            "source": "As a consulting firm, i am requested to do this analyses and find out the best neighborhoods to present to the Aladdin's president.", 
            "cell_type": "markdown", 
            "metadata": {}
        }, 
        {
            "source": "<h3>Data:", 
            "cell_type": "markdown", 
            "metadata": {}
        }, 
        {
            "source": "To find the best neighborhoods with indian food we should get those datas:\n1. Toronto list of boroughs and neighborhood with their locations.\n * This data set is already done by the company and it is called **df_toronto_coor.csv**.\n2. Indian restaurants with the best rating per neighborhood.\n * this dataset is provided by the **Foursquare API**.\n3. Geo location dataset to vizualize the best data with folium library.\n * This dataset is provided by **http://cocl.us/Geospatial_data**", 
            "cell_type": "markdown", 
            "metadata": {}
        }, 
        {
            "source": "<h3> Methodology:", 
            "cell_type": "markdown", 
            "metadata": {}
        }, 
        {
            "source": "1. Get the neighborhoods and locations with df_toronto_coor.csv.\n2. Get the venues from Foursquare API for all neighborhoods.\n3. Filter the category of Indian Restaurants.\n4. Get the range of price and ratings from indian restaurants.\n4. Group the amount of indian restaurants per neighborhood with the average of price.\n5. Determine wich neighborhood has the most and least indian restaurants.\n6. Deterine wich neighborhod has the bigger average price and the medium price.\n7. Decide wich locations is the best fit for the Indian Restaurant Chain to place.", 
            "cell_type": "markdown", 
            "metadata": {}
        }, 
        {
            "source": "", 
            "cell_type": "code", 
            "execution_count": null, 
            "outputs": [], 
            "metadata": {}
        }
    ], 
    "nbformat": 4, 
    "metadata": {
        "kernelspec": {
            "display_name": "Python 3.6", 
            "name": "python3", 
            "language": "python"
        }, 
        "language_info": {
            "mimetype": "text/x-python", 
            "nbconvert_exporter": "python", 
            "version": "3.6.8", 
            "name": "python", 
            "pygments_lexer": "ipython3", 
            "file_extension": ".py", 
            "codemirror_mode": {
                "version": 3, 
                "name": "ipython"
            }
        }
    }
}